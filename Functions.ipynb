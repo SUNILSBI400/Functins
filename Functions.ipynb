{
  "nbformat": 4,
  "nbformat_minor": 0,
  "metadata": {
    "colab": {
      "provenance": []
    },
    "kernelspec": {
      "name": "python3",
      "display_name": "Python 3"
    },
    "language_info": {
      "name": "python"
    }
  },
  "cells": [
    {
      "cell_type": "markdown",
      "source": [
        "# Functons"
      ],
      "metadata": {
        "id": "eTmSFpIv9Bek"
      }
    },
    {
      "cell_type": "markdown",
      "source": [
        "1. What is the difference between a function and a mathod in Python?\n",
        "      - A function is a standalone block of code that is defined independently of any class.\n",
        "It operates on data passed to it as arguments and can return a value.\n",
        "Functions are called directly by their name and do not inherently interact with object-specific data or state.\n",
        "They are typically used for general-purpose operations or calculations that are not tied to the behavior of a particular object.\n",
        "2. question?\n",
        "   - answer"
      ],
      "metadata": {
        "id": "UWoCcwrX91Pq"
      }
    },
    {
      "cell_type": "code",
      "execution_count": 7,
      "metadata": {
        "colab": {
          "base_uri": "https://localhost:8080/",
          "height": 35
        },
        "id": "K_f3Mk4F85WB",
        "outputId": "644078e1-bcaa-4222-d6c3-83d9fd80671f"
      },
      "outputs": [
        {
          "output_type": "execute_result",
          "data": {
            "text/plain": [
              "'\\nthis is an answer\\n'"
            ],
            "application/vnd.google.colaboratory.intrinsic+json": {
              "type": "string"
            }
          },
          "metadata": {},
          "execution_count": 7
        }
      ],
      "source": [
        "# question\n",
        "\"\"\"\n",
        "this is an answer\n",
        "\"\"\""
      ]
    }
  ]
}